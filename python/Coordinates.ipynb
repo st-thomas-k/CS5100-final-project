{
 "cells": [
  {
   "cell_type": "code",
   "execution_count": 2,
   "id": "31d4b380",
   "metadata": {
    "ExecuteTime": {
     "end_time": "2024-04-19T02:16:09.924881Z",
     "start_time": "2024-04-19T02:16:09.317289Z"
    }
   },
   "outputs": [],
   "source": [
    "import cv2\n",
    "import numpy as np\n",
    "import csv"
   ]
  },
  {
   "cell_type": "code",
   "execution_count": 3,
   "id": "40425bce",
   "metadata": {
    "ExecuteTime": {
     "end_time": "2024-04-19T02:16:10.799834Z",
     "start_time": "2024-04-19T02:16:10.796186Z"
    }
   },
   "outputs": [],
   "source": [
    "# get video path"
   ]
  },
  {
   "cell_type": "code",
   "execution_count": 176,
   "id": "5355a080",
   "metadata": {
    "ExecuteTime": {
     "end_time": "2024-04-19T02:27:48.996518Z",
     "start_time": "2024-04-19T02:27:48.993148Z"
    }
   },
   "outputs": [],
   "source": [
    "vid_path = r'C:\\Users\\kyles\\Desktop\\CS5100\\Final_Project\\Test_Data\\fifa_good\\fifa16.mp4'\n"
   ]
  },
  {
   "cell_type": "code",
   "execution_count": 177,
   "id": "14659c68",
   "metadata": {
    "ExecuteTime": {
     "end_time": "2024-04-19T02:27:49.365935Z",
     "start_time": "2024-04-19T02:27:49.362388Z"
    }
   },
   "outputs": [],
   "source": [
    "# Get video frames -- might need to commit to a certain frame size (penalties 23-42 are 1080 x 1920) rather than scaling"
   ]
  },
  {
   "cell_type": "code",
   "execution_count": 178,
   "id": "46aa5aa2",
   "metadata": {
    "ExecuteTime": {
     "end_time": "2024-04-19T02:27:50.097170Z",
     "start_time": "2024-04-19T02:27:49.577681Z"
    }
   },
   "outputs": [],
   "source": [
    "frames = []\n",
    "cap = cv2.VideoCapture(vid_path)\n",
    "    # Create a loop to read the latest frame from the camera using VideoCapture#read()\n",
    "while cap.isOpened():\n",
    "    success, image = cap.read()\n",
    "    \n",
    "    if not success:\n",
    "        break\n",
    "        \n",
    "    frames.append(image)\n",
    "\n",
    "    #if cv2.waitKey(1) & 0xFF == ord('q'):\n",
    "     #   break\n",
    "    \n",
    "cap.release()"
   ]
  },
  {
   "cell_type": "code",
   "execution_count": 179,
   "id": "1a5cfe34",
   "metadata": {
    "ExecuteTime": {
     "end_time": "2024-04-19T02:27:50.530239Z",
     "start_time": "2024-04-19T02:27:50.526608Z"
    }
   },
   "outputs": [],
   "source": [
    "# Get goal frame -- press or hold any key except 'w' to cycle thru frames. when frame is found, press 'w'"
   ]
  },
  {
   "cell_type": "code",
   "execution_count": 180,
   "id": "1a1f58a1",
   "metadata": {
    "ExecuteTime": {
     "end_time": "2024-04-19T02:27:55.922271Z",
     "start_time": "2024-04-19T02:27:50.732641Z"
    }
   },
   "outputs": [],
   "source": [
    "for each in frames:\n",
    "    \n",
    "    cv2.imshow('frame', each)\n",
    "    \n",
    "    if cv2.waitKey(0) & 0xFF == ord('w'):\n",
    "        goal_frame = each\n",
    "        break\n",
    "    else:\n",
    "        continue\n",
    "        \n",
    "cv2.destroyAllWindows()\n",
    "    "
   ]
  },
  {
   "cell_type": "code",
   "execution_count": 181,
   "id": "04c133e5",
   "metadata": {
    "ExecuteTime": {
     "end_time": "2024-04-19T02:27:56.521605Z",
     "start_time": "2024-04-19T02:27:56.517944Z"
    }
   },
   "outputs": [],
   "source": [
    "# Click on ball to get coordinates"
   ]
  },
  {
   "cell_type": "code",
   "execution_count": 182,
   "id": "92c3db0b",
   "metadata": {
    "ExecuteTime": {
     "end_time": "2024-04-19T02:27:56.850305Z",
     "start_time": "2024-04-19T02:27:56.845285Z"
    }
   },
   "outputs": [],
   "source": [
    "def click_event(event, x, y, flags, params): \n",
    "    # checking for left mouse clicks \n",
    "    if event == cv2.EVENT_LBUTTONDOWN: \n",
    "  \n",
    "        # displaying the coordinates \n",
    "        # on the Shell \n",
    "        print(x, ' ', y) \n",
    "        coordinates.append([x, y])"
   ]
  },
  {
   "cell_type": "code",
   "execution_count": 183,
   "id": "d027e66a",
   "metadata": {
    "ExecuteTime": {
     "end_time": "2024-04-19T02:28:06.095293Z",
     "start_time": "2024-04-19T02:27:57.276882Z"
    }
   },
   "outputs": [
    {
     "name": "stdout",
     "output_type": "stream",
     "text": [
      "441   318\n",
      "1478   323\n",
      "959   183\n",
      "900   526\n",
      "530   335\n"
     ]
    }
   ],
   "source": [
    "# displaying the image \n",
    "coordinates = []\n",
    "cv2.imshow('image', goal_frame)\n",
    "\n",
    "# setting mouse handler for the image \n",
    "# and calling the click_event() function \n",
    "cv2.setMouseCallback('image', click_event)\n",
    "\n",
    "# wait for a key to be pressed to exit \n",
    "cv2.waitKey(0)\n",
    "# close the window \n",
    "cv2.destroyAllWindows()"
   ]
  },
  {
   "cell_type": "code",
   "execution_count": 184,
   "id": "95138cbe",
   "metadata": {
    "ExecuteTime": {
     "end_time": "2024-04-19T02:28:06.669658Z",
     "start_time": "2024-04-19T02:28:06.663442Z"
    }
   },
   "outputs": [
    {
     "name": "stdout",
     "output_type": "stream",
     "text": [
      "959.5\n",
      "354.5\n",
      "(441, 354.5)\n",
      "(959.5, 526)\n"
     ]
    }
   ],
   "source": [
    "coordinates\n",
    "mid_width = (coordinates[1][0] + coordinates[0][0]) / 2\n",
    "mid_height = (coordinates[3][1] + coordinates[2][1]) / 2\n",
    "print(mid_width)\n",
    "print(mid_height)\n",
    "start_coord = (coordinates[0][0], mid_height)\n",
    "end_coord = (mid_width, coordinates[3][1])\n",
    "print(start_coord)\n",
    "print(end_coord)"
   ]
  },
  {
   "cell_type": "code",
   "outputs": [
    {
     "data": {
      "text/plain": "[0.914175506268081, 0.5568513119533528]"
     },
     "execution_count": 185,
     "metadata": {},
     "output_type": "execute_result"
    }
   ],
   "source": [
    "width = coordinates[1][0] - coordinates[0][0]\n",
    "height = coordinates[3][1] - coordinates[2][1]\n",
    "ball = [1-(coordinates[4][0] - coordinates[0][0]) / width, (coordinates[3][1] - coordinates[4][1]) / height]\n",
    "ball"
   ],
   "metadata": {
    "collapsed": false,
    "ExecuteTime": {
     "end_time": "2024-04-19T02:28:06.893099Z",
     "start_time": "2024-04-19T02:28:06.886207Z"
    }
   },
   "id": "b80d0658f689e71d",
   "execution_count": 185
  },
  {
   "cell_type": "code",
   "outputs": [
    {
     "name": "stdout",
     "output_type": "stream",
     "text": [
      "Ball loc: [720.005887, 385.564481]\n",
      "Ball loc test: [1310.4207999999999, 480.5525]\n"
     ]
    }
   ],
   "source": [
    "ball_width_test = ball_test[0] * width + coordinates[0][0]\n",
    "ball_height_test = coordinates[3][1] - ball_test[1] * height\n",
    "\n",
    "ball_width = .269051 * width + coordinates[0][0]\n",
    "ball_height = coordinates[3][1] - 0.409433 * height\n",
    "ball_loc = [ball_width, ball_height]\n",
    "ball_loc_test = [ball_width_test, ball_height_test]\n",
    "print(f'Ball loc: {ball_loc}')\n",
    "print(f'Ball loc test: {ball_loc_test}')"
   ],
   "metadata": {
    "collapsed": false,
    "ExecuteTime": {
     "end_time": "2024-04-19T02:28:07.798409Z",
     "start_time": "2024-04-19T02:28:07.793295Z"
    }
   },
   "id": "82df6cde6b0bf3b6",
   "execution_count": 186
  },
  {
   "cell_type": "code",
   "outputs": [],
   "source": [
    "filename = 'fifa_test_ball.csv'\n",
    "with open(filename, mode='a', newline='') as csvfile:\n",
    "    writer = csv.writer(csvfile)\n",
    "    writer.writerow(ball)"
   ],
   "metadata": {
    "collapsed": false,
    "ExecuteTime": {
     "end_time": "2024-04-19T02:28:08.265268Z",
     "start_time": "2024-04-19T02:28:08.260327Z"
    }
   },
   "id": "fc3dde568c34fc23",
   "execution_count": 187
  },
  {
   "cell_type": "code",
   "outputs": [],
   "source": [],
   "metadata": {
    "collapsed": false
   },
   "id": "e42ffa2a7f4a8772"
  }
 ],
 "metadata": {
  "kernelspec": {
   "display_name": "Python 3 (ipykernel)",
   "language": "python",
   "name": "python3"
  },
  "language_info": {
   "codemirror_mode": {
    "name": "ipython",
    "version": 3
   },
   "file_extension": ".py",
   "mimetype": "text/x-python",
   "name": "python",
   "nbconvert_exporter": "python",
   "pygments_lexer": "ipython3",
   "version": "3.11.5"
  }
 },
 "nbformat": 4,
 "nbformat_minor": 5
}
