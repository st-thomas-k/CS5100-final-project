{
 "cells": [
  {
   "cell_type": "code",
   "execution_count": 1,
   "id": "initial_id",
   "metadata": {
    "collapsed": true,
    "ExecuteTime": {
     "end_time": "2024-04-19T21:50:32.435917Z",
     "start_time": "2024-04-19T21:50:27.378926Z"
    }
   },
   "outputs": [],
   "source": [
    "import pandas as pd\n",
    "import ast\n",
    "import numpy as np\n",
    "import torch\n",
    "import torch.nn as nn\n",
    "import torch.optim as optim\n",
    "import matplotlib.pyplot as plt"
   ]
  },
  {
   "cell_type": "code",
   "outputs": [],
   "source": [
    "def convert_string_to_list(string):\n",
    "    return list(float(num) for num in string.strip('()').split(', '))\n",
    "\n",
    "def mean_of_lists(group):\n",
    "    # Stack the arrays vertically\n",
    "    stacked_arrays = np.vstack(group)\n",
    "    # Compute the mean along axis 0\n",
    "    mean_array = np.median(stacked_arrays[:, :3], axis=0)\n",
    "    return mean_array.tolist()"
   ],
   "metadata": {
    "collapsed": false,
    "ExecuteTime": {
     "end_time": "2024-04-19T21:50:33.646392Z",
     "start_time": "2024-04-19T21:50:33.640729Z"
    }
   },
   "id": "dfd87595ff073c04",
   "execution_count": 2
  },
  {
   "cell_type": "code",
   "outputs": [],
   "source": [
    "df1 = pd.read_csv(r'C:\\Users\\kyles\\Desktop\\CS5100\\Final_Project\\5100-final\\train_model3_data.csv', header=None)\n",
    "df2 = pd.read_csv(r'C:\\Users\\kyles\\Desktop\\CS5100\\Final_Project\\5100-final\\reformatted_data.csv')\n",
    "\n",
    "df_test_x = pd.read_csv(r'C:\\Users\\kyles\\Desktop\\CS5100\\Final_Project\\5100-final\\fifa_data.csv')\n",
    "df_test_y = pd.read_csv(r'C:\\Users\\kyles\\Desktop\\CS5100\\Final_Project\\5100-final\\fifa_test_ball.csv', header=None)\n",
    "\n",
    "df3 = df2.copy()"
   ],
   "metadata": {
    "collapsed": false,
    "ExecuteTime": {
     "end_time": "2024-04-19T21:50:34.176313Z",
     "start_time": "2024-04-19T21:50:34.145378Z"
    }
   },
   "id": "1b7ed7216824e439",
   "execution_count": 3
  },
  {
   "cell_type": "code",
   "outputs": [],
   "source": [
    "for column in df3.columns:\n",
    "    if column == 'Pose ID':\n",
    "        break\n",
    "        \n",
    "    df3[column] = df3[column].apply(convert_string_to_list)"
   ],
   "metadata": {
    "collapsed": false,
    "ExecuteTime": {
     "end_time": "2024-04-19T21:50:34.730995Z",
     "start_time": "2024-04-19T21:50:34.714588Z"
    }
   },
   "id": "2b98a347ed37544c",
   "execution_count": 4
  },
  {
   "cell_type": "code",
   "outputs": [],
   "source": [
    "for column in df_test_x:\n",
    "    if column == 'Pose ID':\n",
    "        break\n",
    "\n",
    "    df_test_x[column] = df_test_x[column].apply(convert_string_to_list)"
   ],
   "metadata": {
    "collapsed": false,
    "ExecuteTime": {
     "end_time": "2024-04-19T21:50:35.049847Z",
     "start_time": "2024-04-19T21:50:35.039029Z"
    }
   },
   "id": "a74e43c1e6f5833b",
   "execution_count": 5
  },
  {
   "cell_type": "code",
   "outputs": [],
   "source": [
    "mean_df = df3.groupby('Pose ID').agg({col: mean_of_lists for col in df3.columns[:-1]})\n",
    "mean_df_test = df_test_x.groupby('Pose ID').agg({col: mean_of_lists for col in df_test_x.columns[:-1]})\n",
    "\n",
    "values = mean_df.values.tolist()\n",
    "value_test = mean_df_test.values.tolist()\n",
    "\n",
    "X_arr = np.array(values)\n",
    "X_arr_test = np.array(value_test)"
   ],
   "metadata": {
    "collapsed": false,
    "ExecuteTime": {
     "end_time": "2024-04-19T21:50:35.442108Z",
     "start_time": "2024-04-19T21:50:35.385800Z"
    }
   },
   "id": "50466b0752f4e889",
   "execution_count": 6
  },
  {
   "cell_type": "code",
   "outputs": [],
   "source": [
    "Y_train = torch.tensor(np.array(df1), dtype=torch.float32)\n",
    "Y_test = torch.tensor(np.array(df_test_y), dtype=torch.float32)\n",
    "\n",
    "X_train = torch.tensor(X_arr, dtype=torch.float32)\n",
    "X_test = torch.tensor(X_arr_test, dtype=torch.float32)"
   ],
   "metadata": {
    "collapsed": false,
    "ExecuteTime": {
     "end_time": "2024-04-19T21:50:35.963141Z",
     "start_time": "2024-04-19T21:50:35.952702Z"
    }
   },
   "id": "e179762affe1aa59",
   "execution_count": 7
  },
  {
   "cell_type": "code",
   "outputs": [],
   "source": [
    "import torch\n",
    "import torch.nn as nn\n",
    "import torch.nn.functional as F\n",
    "\n",
    "class Net(nn.Module):\n",
    "    def __init__(self, input_size, output_size):\n",
    "        super(Net, self).__init__()\n",
    "        self.fc1 = nn.Linear(input_size, 120)  # Adjust input_size to 24\n",
    "        self.fc2 = nn.Linear(120, 80)\n",
    "        self.fc3 = nn.Linear(80, 50)\n",
    "        self.fc4 = nn.Linear(50, 20)\n",
    "        self.fc5 = nn.Linear(20, 5)\n",
    "        self.fc6 = nn.Linear(5, output_size)  # Make sure output_size is 2\n",
    "\n",
    "    def forward(self, x):\n",
    "        # Flatten the input from (batch_size, 8, 3) to (batch_size, 24)\n",
    "        x = x.view(x.size(0), -1)  # Flattening step\n",
    "        x = F.relu(self.fc1(x))\n",
    "        x = F.relu(self.fc2(x))\n",
    "        x = F.relu(self.fc3(x))\n",
    "        x = F.relu(self.fc4(x))\n",
    "        x = F.relu(self.fc5(x))\n",
    "        x = torch.sigmoid(self.fc6(x))  # Ensure this is suitable for your problem\n",
    "        return x"
   ],
   "metadata": {
    "collapsed": false,
    "ExecuteTime": {
     "end_time": "2024-04-19T21:50:36.471284Z",
     "start_time": "2024-04-19T21:50:36.462269Z"
    }
   },
   "id": "16432c37da67eb7e",
   "execution_count": 8
  },
  {
   "cell_type": "code",
   "outputs": [],
   "source": [
    "# Uncomment to train\n",
    "\n",
    "# net = Net(input_size=24, output_size=2)\n",
    "# \n",
    "# loss_fn = nn.BCELoss()\n",
    "# optimizer = torch.optim.Adam(net.parameters(), lr=0.001)\n",
    "# \n",
    "# Smaller batches for training\n",
    "# batch_size = len(X_train) // 4\n",
    "# \n",
    "# # Train the network\n",
    "# for epoch in range(1500):\n",
    "#     permutation = torch.randperm(X_train.size()[0])\n",
    "# \n",
    "#     for i in range(0, X_train.size(0), batch_size):\n",
    "#         indices = permutation[i:i + batch_size]\n",
    "#         batch_x, batch_y = X_train[indices], Y_train[indices]\n",
    "#         y_pred = net(batch_x)\n",
    "#         loss = loss_fn(y_pred, batch_y)\n",
    "#         optimizer.zero_grad()\n",
    "#         loss.backward()\n",
    "#         optimizer.step()\n",
    "# \n",
    "#     if epoch % 100 == 0:\n",
    "#         print(f'Epoch {epoch}, Loss: {loss.item()}')"
   ],
   "metadata": {
    "collapsed": false,
    "ExecuteTime": {
     "end_time": "2024-04-19T21:50:39.303680Z",
     "start_time": "2024-04-19T21:50:39.299183Z"
    }
   },
   "id": "b30ca2db30e2552f",
   "execution_count": 9
  },
  {
   "cell_type": "code",
   "outputs": [],
   "source": [
    "# torch.save(net.state_dict(), 'penalty_model.pth')"
   ],
   "metadata": {
    "collapsed": false,
    "ExecuteTime": {
     "end_time": "2024-04-19T21:50:39.630405Z",
     "start_time": "2024-04-19T21:50:39.626283Z"
    }
   },
   "id": "d673ffe34880d7d4",
   "execution_count": 10
  },
  {
   "cell_type": "code",
   "outputs": [
    {
     "data": {
      "text/plain": "<All keys matched successfully>"
     },
     "execution_count": 22,
     "metadata": {},
     "output_type": "execute_result"
    }
   ],
   "source": [
    "net = Net(input_size=24, output_size=2)\n",
    "net.load_state_dict(torch.load('penalty_model.pth'))"
   ],
   "metadata": {
    "collapsed": false,
    "ExecuteTime": {
     "end_time": "2024-04-19T21:51:25.049619Z",
     "start_time": "2024-04-19T21:51:25.040618Z"
    }
   },
   "id": "822d632dda548413",
   "execution_count": 22
  },
  {
   "cell_type": "code",
   "outputs": [
    {
     "name": "stdout",
     "output_type": "stream",
     "text": [
      "Predicted output: [0.02386424 0.77361155], Actual output: [0.925      0.60982656]\n",
      "Predicted output: [0.0720742 0.6132617], Actual output: [0.04038462 0.5565217 ]\n",
      "Predicted output: [0.08019851 0.5041386 ], Actual output: [0.89178747 0.58064514]\n",
      "Predicted output: [0.0455803 0.5085594], Actual output: [0.06467181 0.14492753]\n",
      "Predicted output: [0.93565327 0.2064939 ], Actual output: [0.9355149  0.66570604]\n",
      "Predicted output: [0.01963713 0.6231979 ], Actual output: [0.0511583  0.17391305]\n",
      "Predicted output: [0.01899035 0.40640032], Actual output: [0.07899807 0.69452447]\n",
      "Predicted output: [0.79626167 0.19541232], Actual output: [0.92374516 0.28115943]\n",
      "Predicted output: [0.01477254 0.77168137], Actual output: [0.03481625 0.11370263]\n",
      "Predicted output: [0.04006625 0.2681567 ], Actual output: [0.1352657 0.7113703]\n",
      "Predicted output: [0.11727592 0.08216954], Actual output: [0.09555984 0.6289855 ]\n",
      "Predicted output: [0.01149922 0.32648724], Actual output: [0.04702495 0.6627907 ]\n",
      "Predicted output: [0.55916995 0.3109996 ], Actual output: [0.8601736  0.26666668]\n",
      "Predicted output: [0.07583708 0.10968004], Actual output: [0.10241546 0.73913044]\n",
      "Predicted output: [0.7154118 0.1349617], Actual output: [0.9141755 0.5568513]\n"
     ]
    }
   ],
   "source": [
    "predictions = []\n",
    "with torch.no_grad():\n",
    "    for i in range(len(X_test)):\n",
    "        y_pred = net(X_test[i].view(1, -1)).numpy()[0]\n",
    "        predictions.append(y_pred)\n",
    "        print(f\"Predicted output: {y_pred}, Actual output: {Y_test[i].numpy()}\")"
   ],
   "metadata": {
    "collapsed": false,
    "ExecuteTime": {
     "end_time": "2024-04-19T21:51:25.499837Z",
     "start_time": "2024-04-19T21:51:25.486374Z"
    }
   },
   "id": "ca24bb96623e5b7a",
   "execution_count": 23
  },
  {
   "cell_type": "code",
   "outputs": [
    {
     "data": {
      "text/plain": "array([[0.02386424, 0.77361155],\n       [0.0720742 , 0.6132617 ],\n       [0.08019851, 0.5041386 ],\n       [0.0455803 , 0.5085594 ],\n       [0.93565327, 0.2064939 ],\n       [0.01963713, 0.6231979 ],\n       [0.01899035, 0.40640032],\n       [0.79626167, 0.19541232],\n       [0.01477254, 0.77168137],\n       [0.04006625, 0.2681567 ],\n       [0.11727592, 0.08216954],\n       [0.01149922, 0.32648724],\n       [0.55916995, 0.3109996 ],\n       [0.07583708, 0.10968004],\n       [0.7154118 , 0.1349617 ]], dtype=float32)"
     },
     "execution_count": 34,
     "metadata": {},
     "output_type": "execute_result"
    }
   ],
   "source": [
    "predicted = np.array(predictions)\n",
    "actual = np.array(df_test_y)\n",
    "predicted"
   ],
   "metadata": {
    "collapsed": false,
    "ExecuteTime": {
     "end_time": "2024-04-19T22:05:55.128977Z",
     "start_time": "2024-04-19T22:05:55.115502Z"
    }
   },
   "id": "2b77df21781ab11e",
   "execution_count": 34
  },
  {
   "cell_type": "code",
   "outputs": [
    {
     "data": {
      "text/plain": "array([[0.925     , 0.60982659],\n       [0.04038461, 0.55652174],\n       [0.89178744, 0.58064516],\n       [0.06467181, 0.14492754],\n       [0.93551492, 0.66570605],\n       [0.0511583 , 0.17391304],\n       [0.07899807, 0.6945245 ],\n       [0.92374517, 0.28115942],\n       [0.03481625, 0.11370262],\n       [0.1352657 , 0.71137026],\n       [0.09555985, 0.62898551],\n       [0.04702495, 0.6627907 ],\n       [0.86017358, 0.26666667],\n       [0.10241546, 0.73913043],\n       [0.91417551, 0.55685131]])"
     },
     "execution_count": 35,
     "metadata": {},
     "output_type": "execute_result"
    }
   ],
   "source": [
    "actual"
   ],
   "metadata": {
    "collapsed": false,
    "ExecuteTime": {
     "end_time": "2024-04-19T22:05:56.387097Z",
     "start_time": "2024-04-19T22:05:56.375104Z"
    }
   },
   "id": "1b1ad289adc3c0a7",
   "execution_count": 35
  },
  {
   "cell_type": "code",
   "outputs": [
    {
     "name": "stdout",
     "output_type": "stream",
     "text": [
      "Mean Absolute Error: 0.2568\n"
     ]
    }
   ],
   "source": [
    "mae = np.mean(np.abs(actual - predicted))\n",
    "print(f'Mean Absolute Error: {mae:.4f}')"
   ],
   "metadata": {
    "collapsed": false,
    "ExecuteTime": {
     "end_time": "2024-04-19T22:05:26.075906Z",
     "start_time": "2024-04-19T22:05:26.070148Z"
    }
   },
   "id": "917d9cb26b241eca",
   "execution_count": 33
  },
  {
   "cell_type": "code",
   "outputs": [],
   "source": [
    "euclidean_distances = np.linalg.norm(actual - predicted, axis=1)"
   ],
   "metadata": {
    "collapsed": false,
    "ExecuteTime": {
     "end_time": "2024-04-19T21:51:27.191617Z",
     "start_time": "2024-04-19T21:51:27.186537Z"
    }
   },
   "id": "c3376ac68ac0a481",
   "execution_count": 26
  },
  {
   "cell_type": "code",
   "outputs": [
    {
     "data": {
      "text/plain": "<Figure size 1000x600 with 1 Axes>",
      "image/png": "[encoded data removed]"
     },
     "metadata": {},
     "output_type": "display_data"
    }
   ],
   "source": [
    "plt.figure(figsize=(10, 6))\n",
    "plt.bar(range(len(euclidean_distances)), euclidean_distances)\n",
    "plt.title('Euclidean Distances Between Actual and Predicted Coordinates')\n",
    "plt.xlabel('Index')\n",
    "plt.ylabel('Distance')\n",
    "plt.grid(False)\n",
    "plt.show()"
   ],
   "metadata": {
    "collapsed": false,
    "ExecuteTime": {
     "end_time": "2024-04-19T21:51:27.528811Z",
     "start_time": "2024-04-19T21:51:27.371702Z"
    }
   },
   "id": "16a46eeb46354adf",
   "execution_count": 27
  },
  {
   "cell_type": "code",
   "outputs": [
    {
     "name": "stdout",
     "output_type": "stream",
     "text": [
      "13\n",
      "8\n"
     ]
    },
    {
     "data": {
      "text/plain": "<Figure size 1000x400 with 2 Axes>",
      "image/png": "[encoded data removed]"
     },
     "metadata": {},
     "output_type": "display_data"
    }
   ],
   "source": [
    "x_differences = np.abs(actual[:, 0] - predicted[:, 0])\n",
    "print(np.sum(x_differences < .4))\n",
    "y_differences = np.abs(actual[:, 1] - predicted[:, 1])\n",
    "print(np.sum(y_differences < .4))\n",
    "\n",
    "plt.figure(figsize=(10, 4))\n",
    "plt.subplot(1, 2, 1)\n",
    "plt.hist(x_differences, bins=20, color='blue', alpha=0.7)\n",
    "plt.title('Differences in X')\n",
    "plt.xlabel('Difference')\n",
    "plt.ylabel('Frequency')\n",
    "\n",
    "plt.subplot(1, 2, 2)\n",
    "plt.hist(y_differences, bins=15, color='green', alpha=0.7)\n",
    "plt.title('Differences in Y')\n",
    "plt.xlabel('Difference')\n",
    "plt.ylabel('Frequency')\n",
    "\n",
    "plt.tight_layout()\n",
    "plt.show()"
   ],
   "metadata": {
    "collapsed": false,
    "ExecuteTime": {
     "end_time": "2024-04-20T01:05:27.138049Z",
     "start_time": "2024-04-20T01:05:26.791531Z"
    }
   },
   "id": "699a7550dbefd1e6",
   "execution_count": 43
  },
  {
   "cell_type": "code",
   "outputs": [
    {
     "name": "stdout",
     "output_type": "stream",
     "text": [
      "Percent of total variance explained by x error: 41.6673%\n",
      "Percent of total variance explained by y error: 58.3327%\n"
     ]
    }
   ],
   "source": [
    "x_squared_differences = (actual[:, 0] - predicted[:, 0])**2\n",
    "y_squared_differences = (actual[:, 1] - predicted[:, 1])**2\n",
    "\n",
    "total_x_error = np.sum(x_squared_differences)\n",
    "total_y_error = np.sum(y_squared_differences)\n",
    "total_error = total_x_error + total_y_error\n",
    "\n",
    "percent_explained_by_x = (total_x_error / total_error) * 100\n",
    "percent_explained_by_y = (total_y_error / total_error) * 100\n",
    "\n",
    "print(f'Percent of total variance explained by x error: {percent_explained_by_x:.4f}%')\n",
    "print(f'Percent of total variance explained by y error: {percent_explained_by_y:.4f}%')"
   ],
   "metadata": {
    "collapsed": false,
    "ExecuteTime": {
     "end_time": "2024-04-19T21:51:28.570849Z",
     "start_time": "2024-04-19T21:51:28.564469Z"
    }
   },
   "id": "4ab4bb6fd48dbb4d",
   "execution_count": 29
  }
 ],
 "metadata": {
  "kernelspec": {
   "display_name": "Python 3",
   "language": "python",
   "name": "python3"
  },
  "language_info": {
   "codemirror_mode": {
    "name": "ipython",
    "version": 2
   },
   "file_extension": ".py",
   "mimetype": "text/x-python",
   "name": "python",
   "nbconvert_exporter": "python",
   "pygments_lexer": "ipython2",
   "version": "2.7.6"
  }
 },
 "nbformat": 4,
 "nbformat_minor": 5
}
